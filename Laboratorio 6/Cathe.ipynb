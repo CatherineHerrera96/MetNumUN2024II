import cmath

def solve_cubic(b, c, d):
    """Resuelve la ecuación cúbica x^3 + bx^2 + cx + d = 0."""
    a = 1
    
    # Cálculo de discriminantes
    delta_0 = b**2 - 3*a*c
    delta_1 = 2*b**3 - 9*a*b*c + 27*a**2*d
    delta = delta_1**2 - 4*delta_0**3
    
    # Calcular C
    delta_root = cmath.sqrt(delta)
    C = ((delta_1 + delta_root) / 2) ** (1/3) if (delta_1 + delta_root) != 0 else ((delta_1 - delta_root) / 2) ** (1/3)
    
    # Raíces de la unidad
    xi = complex(-0.5, cmath.sqrt(3)/2)
    
    # Calcular raíces
    if C == 0:
        roots = [-b / (3*a)] * 3
    else:
        roots = [(-1/(3*a)) * (b + xi**k * C + delta_0 / (xi**k * C)) for k in range(3)]
    
    return roots

# Ejemplo de uso
solve_cubic(-6.0, 11.0, -6.0)
